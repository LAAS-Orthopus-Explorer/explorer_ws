{
 "cells": [
  {
   "cell_type": "code",
   "execution_count": 1,
   "id": "5aca4839-8cd9-47c9-aa74-3d598a1651c7",
   "metadata": {},
   "outputs": [
    {
     "name": "stdout",
     "output_type": "stream",
     "text": [
      "ROS msg not found\n",
      "universe                 :  0.00  0.00  0.00\n",
      "root_joint               :  nan  nan  nan\n",
      "joint_1                  :  nan  nan  nan\n",
      "joint_2                  :  nan  nan  nan\n",
      "joint_3                  :  nan  nan  nan\n",
      "joint_4                  :  nan  nan  nan\n",
      "joint_5                  :  nan  nan  nan\n",
      "joint_6                  :  nan  nan  nan\n",
      "left_external_rod_joint  :  nan  nan  nan\n",
      "left_fingertip_joint     :  nan  nan  nan\n",
      "left_finger_joint        :  nan  nan  nan\n",
      "right_external_rod_joint :  nan  nan  nan\n",
      "right_fingertip_joint    :  nan  nan  nan\n",
      "right_finger_joint       :  nan  nan  nan\n"
     ]
    },
    {
     "ename": "AttributeError",
     "evalue": "'CamperoDynamicCfg' object has no attribute 'const'",
     "output_type": "error",
     "traceback": [
      "\u001b[0;31m---------------------------------------------------------------------------\u001b[0m",
      "\u001b[0;31mAttributeError\u001b[0m                            Traceback (most recent call last)",
      "File \u001b[0;32m/src/src/explorer_ws/laas_explorer_stack/laas_controller/laas_controller/mpc_orthopus.py:528\u001b[0m\n\u001b[1;32m    519\u001b[0m \u001b[38;5;124;03m'''def main(args=None):\u001b[39;00m\n\u001b[1;32m    520\u001b[0m \u001b[38;5;124;03m    rclpy.init(args=args)\u001b[39;00m\n\u001b[1;32m    521\u001b[0m \u001b[38;5;124;03m    node = URDFPinocchioNode()\u001b[39;00m\n\u001b[1;32m    522\u001b[0m \u001b[38;5;124;03m    rclpy.spin(node)\u001b[39;00m\n\u001b[1;32m    523\u001b[0m \u001b[38;5;124;03m    node.destroy_node()\u001b[39;00m\n\u001b[1;32m    524\u001b[0m \u001b[38;5;124;03m    rclpy.shutdown()'''\u001b[39;00m\n\u001b[1;32m    526\u001b[0m \u001b[38;5;28;01mif\u001b[39;00m \u001b[38;5;18m__name__\u001b[39m \u001b[38;5;241m==\u001b[39m \u001b[38;5;124m'\u001b[39m\u001b[38;5;124m__main__\u001b[39m\u001b[38;5;124m'\u001b[39m:\n\u001b[1;32m    527\u001b[0m     \u001b[38;5;66;03m#main()\u001b[39;00m\n\u001b[0;32m--> 528\u001b[0m     campero \u001b[38;5;241m=\u001b[39m \u001b[43mManagerMpcAcados\u001b[49m\u001b[43m(\u001b[49m\u001b[43mCamperoDynamicCfg\u001b[49m\u001b[43m(\u001b[49m\u001b[43m)\u001b[49m\u001b[43m)\u001b[49m\n\u001b[1;32m    529\u001b[0m     \u001b[38;5;28mprint\u001b[39m(campero)\n\u001b[1;32m    530\u001b[0m     \u001b[38;5;28mprint\u001b[39m(campero\u001b[38;5;241m.\u001b[39mname)\n",
      "File \u001b[0;32m/usr/local/lib/python3.10/dist-packages/o2r_pi2_controllers/managers/manager_mpc_acados.py:63\u001b[0m, in \u001b[0;36mverifyconfig.<locals>.__init__\u001b[0;34m(self, cfg, **kwargs)\u001b[0m\n\u001b[1;32m     61\u001b[0m const_required_attrs \u001b[38;5;241m=\u001b[39m [\u001b[38;5;124m'\u001b[39m\u001b[38;5;124mlbu\u001b[39m\u001b[38;5;124m'\u001b[39m, \u001b[38;5;124m'\u001b[39m\u001b[38;5;124mubu\u001b[39m\u001b[38;5;124m'\u001b[39m, \u001b[38;5;124m'\u001b[39m\u001b[38;5;124mlbx\u001b[39m\u001b[38;5;124m'\u001b[39m, \u001b[38;5;124m'\u001b[39m\u001b[38;5;124mubx\u001b[39m\u001b[38;5;124m'\u001b[39m, \u001b[38;5;124m'\u001b[39m\u001b[38;5;124mconst_terms\u001b[39m\u001b[38;5;124m'\u001b[39m]\n\u001b[1;32m     62\u001b[0m \u001b[38;5;28;01mfor\u001b[39;00m attr \u001b[38;5;129;01min\u001b[39;00m const_required_attrs:\n\u001b[0;32m---> 63\u001b[0m     \u001b[38;5;28;01mif\u001b[39;00m \u001b[38;5;129;01mnot\u001b[39;00m \u001b[38;5;28mhasattr\u001b[39m(\u001b[43mcfg\u001b[49m\u001b[38;5;241;43m.\u001b[39;49m\u001b[43mconst\u001b[49m, attr):\n\u001b[1;32m     64\u001b[0m         \u001b[38;5;28;01mraise\u001b[39;00m \u001b[38;5;167;01mAttributeError\u001b[39;00m(\u001b[38;5;124mf\u001b[39m\u001b[38;5;124m\"\u001b[39m\u001b[38;5;124mMissing required attribute \u001b[39m\u001b[38;5;124m'\u001b[39m\u001b[38;5;132;01m{\u001b[39;00mattr\u001b[38;5;132;01m}\u001b[39;00m\u001b[38;5;124m'\u001b[39m\u001b[38;5;124m in \u001b[39m\u001b[38;5;132;01m{\u001b[39;00m\u001b[38;5;28mcls\u001b[39m\u001b[38;5;241m.\u001b[39m\u001b[38;5;18m__name__\u001b[39m\u001b[38;5;132;01m}\u001b[39;00m\u001b[38;5;124m\"\u001b[39m)\n\u001b[1;32m     66\u001b[0m cost_required_attrs \u001b[38;5;241m=\u001b[39m [\u001b[38;5;124m'\u001b[39m\u001b[38;5;124mcoefs_keys\u001b[39m\u001b[38;5;124m'\u001b[39m, \u001b[38;5;124m'\u001b[39m\u001b[38;5;124mcost_terms\u001b[39m\u001b[38;5;124m'\u001b[39m]\n",
      "\u001b[0;31mAttributeError\u001b[0m: 'CamperoDynamicCfg' object has no attribute 'const'"
     ]
    }
   ],
   "source": [
    "%run mpc_orthopus.py"
   ]
  }
 ],
 "metadata": {
  "kernelspec": {
   "display_name": "Python 3 (ipykernel)",
   "language": "python",
   "name": "python3"
  },
  "language_info": {
   "codemirror_mode": {
    "name": "ipython",
    "version": 3
   },
   "file_extension": ".py",
   "mimetype": "text/x-python",
   "name": "python",
   "nbconvert_exporter": "python",
   "pygments_lexer": "ipython3",
   "version": "3.10.12"
  }
 },
 "nbformat": 4,
 "nbformat_minor": 5
}
